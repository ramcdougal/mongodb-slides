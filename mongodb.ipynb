{
 "cells": [
  {
   "cell_type": "markdown",
   "metadata": {
    "slideshow": {
     "slide_type": "slide"
    }
   },
   "source": [
    "<h1>MongoDB</h1><h4>Python API and Jupyter + nbconvert demo</h4>"
   ]
  },
  {
   "cell_type": "markdown",
   "metadata": {
    "slideshow": {
     "slide_type": "slide"
    }
   },
   "source": [
    "<i>MongoDB</i> is an example of a <i>Document-Oriented Database</i>. That means that instead of working with tables of normalized data like in a relational database, you work with complete chunks of information called <i>documents</i> which are stored inside <i>collections</i> of similar data."
   ]
  },
  {
   "cell_type": "markdown",
   "metadata": {
    "slideshow": {
     "slide_type": "slide"
    }
   },
   "source": [
    "For example, a document in a clinical setting might describe a patient."
   ]
  },
  {
   "cell_type": "code",
   "execution_count": null,
   "metadata": {
    "collapsed": true
   },
   "outputs": [],
   "source": [
    "{\n",
    "    \"Name\": \"Jon Smith\",\n",
    "    \"Age\": 32,\n",
    "    \"Children\": [\"Fred\", \"Jane\"],\n",
    "    \"LastVisit\": {\n",
    "        \"Time\": \"2018-02-05 14:49\",\n",
    "        \"Symptoms\": [\"Headache\"]\n",
    "    }\n",
    "}"
   ]
  },
  {
   "cell_type": "markdown",
   "metadata": {},
   "source": [
    "This document would likely belong to a <b>collection</b> of patients."
   ]
  },
  {
   "cell_type": "markdown",
   "metadata": {
    "slideshow": {
     "slide_type": "fragment"
    }
   },
   "source": [
    "The syntax here is both a valid Python dictionary and an example of a <a href=\"https://www.json.org/\">JSON</a> document."
   ]
  },
  {
   "cell_type": "markdown",
   "metadata": {
    "slideshow": {
     "slide_type": "slide"
    }
   },
   "source": [
    "To use MongoDB from Python, we must first connect to the database server:"
   ]
  },
  {
   "cell_type": "code",
   "execution_count": null,
   "metadata": {
    "collapsed": true
   },
   "outputs": [],
   "source": [
    "from pymongo import MongoClient\n",
    "mongodb = MongoClient(username='USERNAME',\n",
    "                      password='PASSWORD',\n",
    "                      authSource='DBNAME')\n",
    "mydb = mongodb['DBNAME']"
   ]
  },
  {
   "cell_type": "markdown",
   "metadata": {},
   "source": [
    "... where USERNAME, PASSWORD, and DBNAME are replaced with the appropriate values."
   ]
  },
  {
   "cell_type": "markdown",
   "metadata": {},
   "source": [
    "Once connected, you can change your password via:"
   ]
  },
  {
   "cell_type": "code",
   "execution_count": null,
   "metadata": {
    "collapsed": true
   },
   "outputs": [],
   "source": [
    "mydb.command('updateUser', netid, pwd='12345')"
   ]
  },
  {
   "cell_type": "markdown",
   "metadata": {
    "slideshow": {
     "slide_type": "slide"
    }
   },
   "source": [
    "If you are running locally with no security (don't do this), you can skip the authentication:"
   ]
  },
  {
   "cell_type": "code",
   "execution_count": 3,
   "metadata": {
    "collapsed": true
   },
   "outputs": [],
   "source": [
    "from pymongo import MongoClient\n",
    "mongodb = MongoClient()"
   ]
  },
  {
   "cell_type": "markdown",
   "metadata": {},
   "source": [
    "Let's create a database called <b>medical_history</b> for storing medical history information."
   ]
  },
  {
   "cell_type": "markdown",
   "metadata": {
    "slideshow": {
     "slide_type": "fragment"
    }
   },
   "source": [
    "Since we are experimenting, we will begin by dropping (deleting) any previous database of that name:"
   ]
  },
  {
   "cell_type": "code",
   "execution_count": 13,
   "metadata": {
    "collapsed": true
   },
   "outputs": [],
   "source": [
    "mongodb.drop_database('medical_history')"
   ]
  },
  {
   "cell_type": "markdown",
   "metadata": {
    "slideshow": {
     "slide_type": "fragment"
    }
   },
   "source": [
    "And now we can create it simply by referencing it using either the [] or dot notation:"
   ]
  },
  {
   "cell_type": "code",
   "execution_count": 14,
   "metadata": {
    "collapsed": true
   },
   "outputs": [],
   "source": [
    "mydb = mongodb.medical_history  # same as mongodb['medical_history']"
   ]
  },
  {
   "cell_type": "code",
   "execution_count": 15,
   "metadata": {},
   "outputs": [
    {
     "data": {
      "text/plain": [
       "pymongo.database.Database"
      ]
     },
     "execution_count": 15,
     "metadata": {},
     "output_type": "execute_result"
    }
   ],
   "source": [
    "type(mydb)"
   ]
  },
  {
   "cell_type": "markdown",
   "metadata": {
    "slideshow": {
     "slide_type": "slide"
    }
   },
   "source": [
    "Now that we can connect to our database, there are four key types of operations, known by the acronym <a href=\"https://en.wikipedia.org/wiki/Create,_read,_update_and_delete\">CRUD</a>:\n",
    "<ul>\n",
    "<li><i>C</i>reate</li>\n",
    "<li><i>R</i>ead</li>\n",
    "<li><i>U</i>pdate</li>\n",
    "<li><i>D</i>elete</li>\n",
    "</ul>"
   ]
  },
  {
   "cell_type": "markdown",
   "metadata": {
    "slideshow": {
     "slide_type": "slide"
    }
   },
   "source": [
    "<h1>Create</h1>"
   ]
  },
  {
   "cell_type": "markdown",
   "metadata": {
    "slideshow": {
     "slide_type": "-"
    }
   },
   "source": [
    "To enter a document in our database, we must first create a collection. Since MongoDB is by default schemaless, this can be done simply by referring to the collection by name:"
   ]
  },
  {
   "cell_type": "code",
   "execution_count": 16,
   "metadata": {},
   "outputs": [
    {
     "data": {
      "text/plain": [
       "pymongo.collection.Collection"
      ]
     },
     "execution_count": 16,
     "metadata": {},
     "output_type": "execute_result"
    }
   ],
   "source": [
    "patient_info = mydb.patient_info\n",
    "type(patient_info)"
   ]
  },
  {
   "cell_type": "markdown",
   "metadata": {
    "slideshow": {
     "slide_type": "slide"
    }
   },
   "source": [
    "Schemas for a collection can be specified using the draft <a href=\"http://json-schema.org/\">JSON Schema</a> standard, e.g."
   ]
  },
  {
   "cell_type": "code",
   "execution_count": 20,
   "metadata": {
    "collapsed": true
   },
   "outputs": [],
   "source": [
    "mydb.create_collection('patients', validator={\n",
    "    '$jsonSchema': {\n",
    "        'required': ['age', 'sex'],\n",
    "        'properties': {\n",
    "            'age': {\n",
    "                'bsonType': 'int',\n",
    "                'minimum': 0,\n",
    "                'maximum': 100\n",
    "            },\n",
    "            'sex': {\n",
    "                'bsonType': 'string',\n",
    "                'enum': ['male', 'female']\n",
    "            }\n",
    "        }\n",
    "    }\n",
    "})\n",
    "patients = mydb.patients"
   ]
  },
  {
   "cell_type": "markdown",
   "metadata": {
    "collapsed": true,
    "slideshow": {
     "slide_type": "slide"
    }
   },
   "source": [
    "We can insert a single document into a collection using <b>insert_one</b>:"
   ]
  },
  {
   "cell_type": "code",
   "execution_count": 21,
   "metadata": {},
   "outputs": [],
   "source": [
    "response = patient_info.insert_one(\n",
    "    {\n",
    "        'Last': 'Shingler',\n",
    "        'First': 'Cynthia',\n",
    "        'age': 42,\n",
    "        'sex': 'female',\n",
    "        'conditions': ['High blood pressure']\n",
    "    }\n",
    ")"
   ]
  },
  {
   "cell_type": "markdown",
   "metadata": {
    "slideshow": {
     "slide_type": "fragment"
    }
   },
   "source": [
    "The insert_one call returns an object that can be queried to obtain the automatically generated <b>_id</b> field of the document. (This is indexed by default.) Alternatively, an <b>_id</b> could have been specified in the document being inserted; if so, it would have been required to be unique."
   ]
  },
  {
   "cell_type": "code",
   "execution_count": 27,
   "metadata": {},
   "outputs": [
    {
     "data": {
      "text/plain": [
       "ObjectId('5a78c353a2db802558fa8b02')"
      ]
     },
     "execution_count": 27,
     "metadata": {},
     "output_type": "execute_result"
    }
   ],
   "source": [
    "response.inserted_id"
   ]
  },
  {
   "cell_type": "markdown",
   "metadata": {
    "slideshow": {
     "slide_type": "slide"
    }
   },
   "source": [
    "Attempting to insert a document that does not match the schema provided (if any) raises an exception. Recall that we previously required documents in <b>patients</b> to have both an <b>age</b> and a <b>sex</b>:"
   ]
  },
  {
   "cell_type": "code",
   "execution_count": 28,
   "metadata": {},
   "outputs": [
    {
     "ename": "WriteError",
     "evalue": "Document failed validation",
     "output_type": "error",
     "traceback": [
      "\u001b[1;31m---------------------------------------------------------------------------\u001b[0m",
      "\u001b[1;31mWriteError\u001b[0m                                Traceback (most recent call last)",
      "\u001b[1;32m<ipython-input-28-ead4e5461311>\u001b[0m in \u001b[0;36m<module>\u001b[1;34m()\u001b[0m\n\u001b[1;32m----> 1\u001b[1;33m \u001b[0mpatients\u001b[0m\u001b[1;33m.\u001b[0m\u001b[0minsert_one\u001b[0m\u001b[1;33m(\u001b[0m\u001b[1;33m{\u001b[0m\u001b[1;34m'Last'\u001b[0m\u001b[1;33m:\u001b[0m \u001b[1;34m'Cain'\u001b[0m\u001b[1;33m,\u001b[0m \u001b[1;34m'First'\u001b[0m\u001b[1;33m:\u001b[0m \u001b[1;34m'Winona'\u001b[0m\u001b[1;33m}\u001b[0m\u001b[1;33m)\u001b[0m\u001b[1;33m\u001b[0m\u001b[0m\n\u001b[0m",
      "\u001b[1;32mC:\\ProgramData\\Anaconda2\\lib\\site-packages\\pymongo\\collection.pyc\u001b[0m in \u001b[0;36minsert_one\u001b[1;34m(self, document, bypass_document_validation)\u001b[0m\n\u001b[0;32m    655\u001b[0m             return InsertOneResult(\n\u001b[0;32m    656\u001b[0m                 self._insert(sock_info, document,\n\u001b[1;32m--> 657\u001b[1;33m                              bypass_doc_val=bypass_document_validation),\n\u001b[0m\u001b[0;32m    658\u001b[0m                 self.write_concern.acknowledged)\n\u001b[0;32m    659\u001b[0m \u001b[1;33m\u001b[0m\u001b[0m\n",
      "\u001b[1;32mC:\\ProgramData\\Anaconda2\\lib\\site-packages\\pymongo\\collection.pyc\u001b[0m in \u001b[0;36m_insert\u001b[1;34m(self, sock_info, docs, ordered, check_keys, manipulate, write_concern, op_id, bypass_doc_val)\u001b[0m\n\u001b[0;32m    560\u001b[0m             return self._insert_one(\n\u001b[0;32m    561\u001b[0m                 \u001b[0msock_info\u001b[0m\u001b[1;33m,\u001b[0m \u001b[0mdocs\u001b[0m\u001b[1;33m,\u001b[0m \u001b[0mordered\u001b[0m\u001b[1;33m,\u001b[0m\u001b[1;33m\u001b[0m\u001b[0m\n\u001b[1;32m--> 562\u001b[1;33m                 check_keys, manipulate, write_concern, op_id, bypass_doc_val)\n\u001b[0m\u001b[0;32m    563\u001b[0m \u001b[1;33m\u001b[0m\u001b[0m\n\u001b[0;32m    564\u001b[0m         \u001b[0mids\u001b[0m \u001b[1;33m=\u001b[0m \u001b[1;33m[\u001b[0m\u001b[1;33m]\u001b[0m\u001b[1;33m\u001b[0m\u001b[0m\n",
      "\u001b[1;32mC:\\ProgramData\\Anaconda2\\lib\\site-packages\\pymongo\\collection.pyc\u001b[0m in \u001b[0;36m_insert_one\u001b[1;34m(self, sock_info, doc, ordered, check_keys, manipulate, write_concern, op_id, bypass_doc_val)\u001b[0m\n\u001b[0;32m    542\u001b[0m                 \u001b[0mcodec_options\u001b[0m\u001b[1;33m=\u001b[0m\u001b[0mself\u001b[0m\u001b[1;33m.\u001b[0m\u001b[0m__write_response_codec_options\u001b[0m\u001b[1;33m,\u001b[0m\u001b[1;33m\u001b[0m\u001b[0m\n\u001b[0;32m    543\u001b[0m                 check_keys=check_keys)\n\u001b[1;32m--> 544\u001b[1;33m             \u001b[0m_check_write_command_response\u001b[0m\u001b[1;33m(\u001b[0m\u001b[1;33m[\u001b[0m\u001b[1;33m(\u001b[0m\u001b[1;36m0\u001b[0m\u001b[1;33m,\u001b[0m \u001b[0mresult\u001b[0m\u001b[1;33m)\u001b[0m\u001b[1;33m]\u001b[0m\u001b[1;33m)\u001b[0m\u001b[1;33m\u001b[0m\u001b[0m\n\u001b[0m\u001b[0;32m    545\u001b[0m         \u001b[1;32melse\u001b[0m\u001b[1;33m:\u001b[0m\u001b[1;33m\u001b[0m\u001b[0m\n\u001b[0;32m    546\u001b[0m             \u001b[1;31m# Legacy OP_INSERT.\u001b[0m\u001b[1;33m\u001b[0m\u001b[1;33m\u001b[0m\u001b[0m\n",
      "\u001b[1;32mC:\\ProgramData\\Anaconda2\\lib\\site-packages\\pymongo\\helpers.pyc\u001b[0m in \u001b[0;36m_check_write_command_response\u001b[1;34m(results)\u001b[0m\n\u001b[0;32m    313\u001b[0m             \u001b[1;32mif\u001b[0m \u001b[0merror\u001b[0m\u001b[1;33m.\u001b[0m\u001b[0mget\u001b[0m\u001b[1;33m(\u001b[0m\u001b[1;34m\"code\"\u001b[0m\u001b[1;33m)\u001b[0m \u001b[1;33m==\u001b[0m \u001b[1;36m11000\u001b[0m\u001b[1;33m:\u001b[0m\u001b[1;33m\u001b[0m\u001b[0m\n\u001b[0;32m    314\u001b[0m                 \u001b[1;32mraise\u001b[0m \u001b[0mDuplicateKeyError\u001b[0m\u001b[1;33m(\u001b[0m\u001b[0merror\u001b[0m\u001b[1;33m.\u001b[0m\u001b[0mget\u001b[0m\u001b[1;33m(\u001b[0m\u001b[1;34m\"errmsg\"\u001b[0m\u001b[1;33m)\u001b[0m\u001b[1;33m,\u001b[0m \u001b[1;36m11000\u001b[0m\u001b[1;33m,\u001b[0m \u001b[0merror\u001b[0m\u001b[1;33m)\u001b[0m\u001b[1;33m\u001b[0m\u001b[0m\n\u001b[1;32m--> 315\u001b[1;33m             \u001b[1;32mraise\u001b[0m \u001b[0mWriteError\u001b[0m\u001b[1;33m(\u001b[0m\u001b[0merror\u001b[0m\u001b[1;33m.\u001b[0m\u001b[0mget\u001b[0m\u001b[1;33m(\u001b[0m\u001b[1;34m\"errmsg\"\u001b[0m\u001b[1;33m)\u001b[0m\u001b[1;33m,\u001b[0m \u001b[0merror\u001b[0m\u001b[1;33m.\u001b[0m\u001b[0mget\u001b[0m\u001b[1;33m(\u001b[0m\u001b[1;34m\"code\"\u001b[0m\u001b[1;33m)\u001b[0m\u001b[1;33m,\u001b[0m \u001b[0merror\u001b[0m\u001b[1;33m)\u001b[0m\u001b[1;33m\u001b[0m\u001b[0m\n\u001b[0m\u001b[0;32m    316\u001b[0m         \u001b[1;32melse\u001b[0m\u001b[1;33m:\u001b[0m\u001b[1;33m\u001b[0m\u001b[0m\n\u001b[0;32m    317\u001b[0m             \u001b[0merror\u001b[0m \u001b[1;33m=\u001b[0m \u001b[0mresult\u001b[0m\u001b[1;33m[\u001b[0m\u001b[1;34m\"writeConcernError\"\u001b[0m\u001b[1;33m]\u001b[0m\u001b[1;33m\u001b[0m\u001b[0m\n",
      "\u001b[1;31mWriteError\u001b[0m: Document failed validation"
     ]
    }
   ],
   "source": [
    "patients.insert_one({'Last': 'Cain', 'First': 'Winona'})"
   ]
  },
  {
   "cell_type": "markdown",
   "metadata": {
    "slideshow": {
     "slide_type": "slide"
    }
   },
   "source": [
    "Which of the following commands will succeed? If you are viewing this interactively, run each cell to test your predictions."
   ]
  },
  {
   "cell_type": "code",
   "execution_count": null,
   "metadata": {
    "collapsed": true
   },
   "outputs": [],
   "source": [
    "patient_info.insert_one({'last': 'Eder', 'first': 'Debra',\n",
    "                         'age': 50, 'sex': 'female'})"
   ]
  },
  {
   "cell_type": "code",
   "execution_count": null,
   "metadata": {
    "collapsed": true
   },
   "outputs": [],
   "source": [
    "patients.insert_one({'last': 'Cassidy', 'first': 'Bernie',\n",
    "                     'age': 1978, 'sex': 'male'})"
   ]
  },
  {
   "cell_type": "code",
   "execution_count": null,
   "metadata": {
    "collapsed": true
   },
   "outputs": [],
   "source": [
    "patient_info.insert_one({'Last': 'Murphy', 'First': 'Manuel',\n",
    "                         'Age': 25})"
   ]
  },
  {
   "cell_type": "code",
   "execution_count": null,
   "metadata": {
    "collapsed": true
   },
   "outputs": [],
   "source": [
    "patients.insert_one({'last': 'Murphy', 'first': 'Manuel',\n",
    "                     'age': 25, 'sex': 'california'})"
   ]
  },
  {
   "cell_type": "markdown",
   "metadata": {
    "slideshow": {
     "slide_type": "slide"
    }
   },
   "source": [
    "We can also <b>insert_many</b> documents at a time from a Python iterable (e.g. a list):"
   ]
  },
  {
   "cell_type": "code",
   "execution_count": 30,
   "metadata": {},
   "outputs": [
    {
     "data": {
      "text/plain": [
       "<pymongo.results.InsertManyResult at 0x92a2510>"
      ]
     },
     "execution_count": 30,
     "metadata": {},
     "output_type": "execute_result"
    }
   ],
   "source": [
    "patients.insert_many([\n",
    "    {'last': 'Bowman', 'first': 'Deana', 'age': 32, 'sex': 'female'},\n",
    "    {'last': 'Walker', 'first': 'Marcos', 'age': 79, 'sex': 'male'},\n",
    "    {'last': 'Dimiceli', 'first': 'Scott', 'age': 67, 'sex': 'male'}\n",
    "])"
   ]
  },
  {
   "cell_type": "markdown",
   "metadata": {},
   "source": [
    "By default, the items are inserted in order; this means that if a document fails validation, no documents later in the list will be inserted."
   ]
  },
  {
   "cell_type": "markdown",
   "metadata": {},
   "source": [
    "Including the optional keyword argument <b>ordered=False</b> causes every document insertion to be attempted."
   ]
  },
  {
   "cell_type": "markdown",
   "metadata": {
    "slideshow": {
     "slide_type": "slide"
    }
   },
   "source": [
    "To have an interesting collection of data to work with, lets drop the collections that we have right now, and recreate patients with synthetic data from <a href=\"patients.csv\">patients.csv</a>:"
   ]
  },
  {
   "cell_type": "code",
   "execution_count": 31,
   "metadata": {},
   "outputs": [
    {
     "data": {
      "text/plain": [
       "{u'nIndexesWas': 1, u'ns': u'medical_history.patient_info', u'ok': 1.0}"
      ]
     },
     "execution_count": 31,
     "metadata": {},
     "output_type": "execute_result"
    }
   ],
   "source": [
    "mydb.drop_collection('patients')\n",
    "mydb.drop_collection('patient_info')"
   ]
  },
  {
   "cell_type": "markdown",
   "metadata": {},
   "source": [
    "Reintroducing the schema rules..."
   ]
  },
  {
   "cell_type": "code",
   "execution_count": 32,
   "metadata": {
    "collapsed": true
   },
   "outputs": [],
   "source": [
    "mydb.create_collection('patients', validator={\n",
    "    '$jsonSchema': {\n",
    "        'required': ['age', 'sex'],\n",
    "        'properties': {\n",
    "            'age': {\n",
    "                'bsonType': 'int',\n",
    "                'minimum': 0,\n",
    "                'maximum': 100\n",
    "            },\n",
    "            'sex': {\n",
    "                'bsonType': 'string',\n",
    "                'enum': ['male', 'female']\n",
    "            }\n",
    "        }\n",
    "    }\n",
    "})\n",
    "patients = mydb.patients"
   ]
  },
  {
   "cell_type": "markdown",
   "metadata": {
    "slideshow": {
     "slide_type": "slide"
    }
   },
   "source": [
    "Now let's load the data, dropping any entries that do not validate (data-entry errors are common):"
   ]
  },
  {
   "cell_type": "code",
   "execution_count": 34,
   "metadata": {},
   "outputs": [],
   "source": [
    "import pymongo\n",
    "with open(\"people.csv\") as f:\n",
    "    for line in f:\n",
    "        patient_id, last, first, age, sex = line.strip().split(',')\n",
    "        patient_id = int(patient_id)\n",
    "        age = int(age)\n",
    "        try:\n",
    "            mydb.patients.insert_one({\n",
    "                '_id': patient_id,\n",
    "                'last': last,\n",
    "                'first': first,\n",
    "                'age': age,\n",
    "                'sex': sex\n",
    "            })\n",
    "        except pymongo.errors.WriteError:\n",
    "            # invalid entry\n",
    "            pass"
   ]
  },
  {
   "cell_type": "markdown",
   "metadata": {
    "slideshow": {
     "slide_type": "slide"
    }
   },
   "source": [
    "We'll also load in artificial conditions data from <a href=\"diagnoses.csv\">diagnoses.csv</a>. Note that this is not patient-centric; we'll fix that later."
   ]
  },
  {
   "cell_type": "code",
   "execution_count": 36,
   "metadata": {},
   "outputs": [],
   "source": [
    "with open('diagnoses.csv') as f:\n",
    "    for line in f:\n",
    "        patient, condition = line.strip().split(',')\n",
    "        patient = int(patient)\n",
    "        mydb.conditions.insert_one({'patient': patient, 'condition': condition})"
   ]
  },
  {
   "attachments": {},
   "cell_type": "markdown",
   "metadata": {
    "slideshow": {
     "slide_type": "slide"
    }
   },
   "source": [
    "The data may be viewed, queried, and edited using the graphical <b>MongoDB Compass</b> tool. This also provides a quick way to make sure the data was imported correctly."
   ]
  },
  {
   "cell_type": "markdown",
   "metadata": {},
   "source": [
    "<img src=\"mongodb-compass.png\"/>"
   ]
  },
  {
   "cell_type": "markdown",
   "metadata": {
    "slideshow": {
     "slide_type": "slide"
    }
   },
   "source": [
    "<h1>Read</h1>"
   ]
  },
  {
   "cell_type": "markdown",
   "metadata": {},
   "source": [
    "We will discuss three forms of reading from the database: <ul><li>counting documents</li><li>finding documents</li><li>aggregating documents</li></ul>"
   ]
  },
  {
   "cell_type": "markdown",
   "metadata": {
    "slideshow": {
     "slide_type": "slide"
    }
   },
   "source": [
    "<h1>Counting documents</h1>"
   ]
  },
  {
   "cell_type": "markdown",
   "metadata": {},
   "source": [
    "The most basic question we can ask is how many documents are in a collection:"
   ]
  },
  {
   "cell_type": "code",
   "execution_count": 37,
   "metadata": {},
   "outputs": [
    {
     "data": {
      "text/plain": [
       "9766"
      ]
     },
     "execution_count": 37,
     "metadata": {},
     "output_type": "execute_result"
    }
   ],
   "source": [
    "patients.count()"
   ]
  },
  {
   "cell_type": "markdown",
   "metadata": {},
   "source": [
    "We can specify a document to match against to count only a subset; e.g. to find how many patients have the last name \"Smith\":"
   ]
  },
  {
   "cell_type": "code",
   "execution_count": 38,
   "metadata": {},
   "outputs": [
    {
     "data": {
      "text/plain": [
       "123"
      ]
     },
     "execution_count": 38,
     "metadata": {},
     "output_type": "execute_result"
    }
   ],
   "source": [
    "patients.count({'last': 'Smith'})"
   ]
  },
  {
   "cell_type": "markdown",
   "metadata": {
    "slideshow": {
     "slide_type": "slide"
    }
   },
   "source": [
    "Now it's your turn. How many patients have the first name \"Robert\"? "
   ]
  },
  {
   "cell_type": "code",
   "execution_count": null,
   "metadata": {
    "collapsed": true
   },
   "outputs": [],
   "source": [
    " "
   ]
  },
  {
   "cell_type": "markdown",
   "metadata": {},
   "source": [
    "How many patients are female?"
   ]
  },
  {
   "cell_type": "code",
   "execution_count": null,
   "metadata": {
    "collapsed": true
   },
   "outputs": [],
   "source": [
    " "
   ]
  },
  {
   "cell_type": "markdown",
   "metadata": {
    "slideshow": {
     "slide_type": "slide"
    }
   },
   "source": [
    "To find a single document matching a query, use <b>find_one</b>:"
   ]
  },
  {
   "cell_type": "code",
   "execution_count": 41,
   "metadata": {},
   "outputs": [
    {
     "data": {
      "text/plain": [
       "{u'_id': 8509,\n",
       " u'age': 89,\n",
       " u'first': u'Raymond',\n",
       " u'last': u'Phillips',\n",
       " u'sex': u'male'}"
      ]
     },
     "execution_count": 41,
     "metadata": {},
     "output_type": "execute_result"
    }
   ],
   "source": [
    "patients.find_one({'_id': 8509})"
   ]
  },
  {
   "cell_type": "markdown",
   "metadata": {},
   "source": [
    "To find all documents matching a query, use <b>find</b>. This returns an iterable that returns the data from the database as needed; e.g. to find all of patient 8509's conditions:"
   ]
  },
  {
   "cell_type": "code",
   "execution_count": 42,
   "metadata": {},
   "outputs": [
    {
     "name": "stdout",
     "output_type": "stream",
     "text": [
      "Diabetes\n",
      "Periodontal disease\n",
      "Drug abuse\n",
      "High blood pressure\n",
      "Androgenetic alopecia\n",
      "Alzheimer's\n"
     ]
    }
   ],
   "source": [
    "for document in mydb.conditions.find({'patient': 8509}):\n",
    "    print(document['condition'])"
   ]
  },
  {
   "cell_type": "markdown",
   "metadata": {
    "slideshow": {
     "slide_type": "slide"
    }
   },
   "source": [
    "Your turn."
   ]
  },
  {
   "cell_type": "markdown",
   "metadata": {},
   "source": [
    "Find the first names of all patients aged 89; my answer is shown below."
   ]
  },
  {
   "cell_type": "code",
   "execution_count": 69,
   "metadata": {},
   "outputs": [
    {
     "name": "stdout",
     "output_type": "stream",
     "text": [
      "Lisa, Mable, Melody, Deborah, Mark, Miriam, Ivan, Leslie, Crystal, Jorge, \n",
      "David, Vickie, Michelle, Norman, Anthony, Evita, Paul, Roy, Anna, Matthew, \n",
      "Eva, Mary, Charlotte, Angela, Robert, Marion, Sofia, Clayton, Juanita, Henry, \n",
      "Michael, Martha, Marie, Aaron, Sandra, Sarah, Kim, Antonio, Maxine, Sara, \n",
      "Matthew, Dixie, Delores, Celeste, Olga, Raymond, Robert, Arthur, Linda, Kayla, \n",
      "Donna, Kenneth, William, Stephanie, Charles, Luke\n"
     ]
    }
   ],
   "source": []
  },
  {
   "cell_type": "markdown",
   "metadata": {
    "slideshow": {
     "slide_type": "slide"
    }
   },
   "source": [
    "We can search against multiple fields simultaneously:"
   ]
  },
  {
   "cell_type": "code",
   "execution_count": 74,
   "metadata": {},
   "outputs": [
    {
     "data": {
      "text/plain": [
       "[{u'_id': 1420,\n",
       "  u'age': 9,\n",
       "  u'first': u'John',\n",
       "  u'last': u'Smith',\n",
       "  u'sex': u'male'},\n",
       " {u'_id': 6364,\n",
       "  u'age': 55,\n",
       "  u'first': u'John',\n",
       "  u'last': u'Smith',\n",
       "  u'sex': u'male'},\n",
       " {u'_id': 7430,\n",
       "  u'age': 69,\n",
       "  u'first': u'John',\n",
       "  u'last': u'Smith',\n",
       "  u'sex': u'male'}]"
      ]
     },
     "execution_count": 74,
     "metadata": {},
     "output_type": "execute_result"
    }
   ],
   "source": [
    "list(patients.find({'last': 'Smith', 'first': 'John'}))"
   ]
  },
  {
   "cell_type": "markdown",
   "metadata": {
    "slideshow": {
     "slide_type": "slide"
    }
   },
   "source": [
    "MongoDB supports a number of <a href=\"https://docs.mongodb.com/manual/reference/operator/query/\">query operators</a>, all prefixed with a $ sign. These can be used with both <b>count</b> and <b>find</b>."
   ]
  },
  {
   "cell_type": "markdown",
   "metadata": {},
   "source": [
    "For example, to find out how many patients are over age 80:"
   ]
  },
  {
   "cell_type": "code",
   "execution_count": 76,
   "metadata": {},
   "outputs": [
    {
     "data": {
      "text/plain": [
       "542"
      ]
     },
     "execution_count": 76,
     "metadata": {},
     "output_type": "execute_result"
    }
   ],
   "source": [
    "patients.count({'age': {'$gt': 80}})"
   ]
  },
  {
   "cell_type": "markdown",
   "metadata": {},
   "source": [
    "Patients named Smith who are either over age 80 or under 10:"
   ]
  },
  {
   "cell_type": "code",
   "execution_count": 80,
   "metadata": {},
   "outputs": [
    {
     "data": {
      "text/plain": [
       "17"
      ]
     },
     "execution_count": 80,
     "metadata": {},
     "output_type": "execute_result"
    }
   ],
   "source": [
    "patients.count({'last': 'Smith',\n",
    "                '$or': [\n",
    "                    {'age': {'$gt': 80}},\n",
    "                    {'age': {'$lt': 10}}\n",
    "                ]})"
   ]
  },
  {
   "cell_type": "markdown",
   "metadata": {
    "slideshow": {
     "slide_type": "slide"
    }
   },
   "source": [
    "We can find the distinct set of values for a given field in a search result by combining <b>find</b> with <b>distinct</b>:"
   ]
  },
  {
   "cell_type": "code",
   "execution_count": 81,
   "metadata": {},
   "outputs": [
    {
     "data": {
      "text/plain": [
       "[9, 55, 69]"
      ]
     },
     "execution_count": 81,
     "metadata": {},
     "output_type": "execute_result"
    }
   ],
   "source": [
    "patients.find({'last': 'Smith', 'first': 'John'}).distinct('age')"
   ]
  },
  {
   "cell_type": "markdown",
   "metadata": {
    "slideshow": {
     "slide_type": "fragment"
    }
   },
   "source": [
    "Your turn: "
   ]
  },
  {
   "cell_type": "markdown",
   "metadata": {},
   "source": [
    "What are the distinct conditions (field name: <b>condition</b>) in the <b>mydb.conditions</b> collection? (Hint: there are 10.)"
   ]
  },
  {
   "cell_type": "code",
   "execution_count": null,
   "metadata": {},
   "outputs": [],
   "source": [
    " "
   ]
  },
  {
   "cell_type": "markdown",
   "metadata": {
    "slideshow": {
     "slide_type": "slide"
    }
   },
   "source": [
    "<h1>Aggregation</h1>"
   ]
  },
  {
   "cell_type": "markdown",
   "metadata": {},
   "source": [
    "Aggregation is a general framework that allows you to query documents, cross-reference documents (think: left outer joins in SQL), group data, do calculations, rename fields, create new collections, etc. It is related to the concept of a map-reduce. For more, see the <a href=\"http://api.mongodb.com/python/current/examples/aggregation.html\">PyMongo Aggregation</a> documentation."
   ]
  },
  {
   "cell_type": "markdown",
   "metadata": {
    "slideshow": {
     "slide_type": "slide"
    }
   },
   "source": [
    "We can create a new virtual collection that groups the patients by last name and counts the number of matches:"
   ]
  },
  {
   "cell_type": "code",
   "execution_count": 88,
   "metadata": {},
   "outputs": [
    {
     "name": "stdout",
     "output_type": "stream",
     "text": [
      "Canterbury                   1\n",
      "Roundtree                    1\n",
      "Guest                        1\n",
      "Nasser                       1\n",
      "Gillis                       1\n"
     ]
    }
   ],
   "source": [
    "for i, data in enumerate(mydb.patients.aggregate([\n",
    "    {'$group': {'_id': '$last', 'count': {'$sum': 1}}},\n",
    "])):\n",
    "    print('{_id:20}{count:10}'.format(**data))\n",
    "    if i == 4: break"
   ]
  },
  {
   "cell_type": "markdown",
   "metadata": {
    "slideshow": {
     "slide_type": "fragment"
    }
   },
   "source": [
    "If we are looking for a specific name, we can use the <b>$match</b> operator to narrow the results:"
   ]
  },
  {
   "cell_type": "code",
   "execution_count": 90,
   "metadata": {},
   "outputs": [
    {
     "name": "stdout",
     "output_type": "stream",
     "text": [
      "Jones                       71\n"
     ]
    }
   ],
   "source": [
    "for i, data in enumerate(mydb.patients.aggregate([\n",
    "    {'$match': {'last': 'Jones'}},\n",
    "    {'$group': {'_id': '$last', 'count': {'$sum': 1}}},\n",
    "])):\n",
    "    print('{_id:20}{count:10}'.format(**data))"
   ]
  },
  {
   "cell_type": "markdown",
   "metadata": {},
   "source": [
    "We do the <b>\\$match</b> before the <b>\\$group</b> to minimize the amount of data that must be grouped."
   ]
  },
  {
   "cell_type": "markdown",
   "metadata": {
    "slideshow": {
     "slide_type": "slide"
    }
   },
   "source": [
    "If instead we want to know the most common names, we can do a <b>$sort</b> on the count:"
   ]
  },
  {
   "cell_type": "code",
   "execution_count": 91,
   "metadata": {},
   "outputs": [
    {
     "name": "stdout",
     "output_type": "stream",
     "text": [
      "Smith                      123\n",
      "Johnson                    101\n",
      "Williams                    90\n",
      "Jones                       71\n",
      "Davis                       61\n"
     ]
    }
   ],
   "source": [
    "for i, data in enumerate(mydb.patients.aggregate([\n",
    "    {'$group': {'_id': '$last', 'count': {'$sum': 1}}},\n",
    "    {'$sort': {'count': -1}}\n",
    "])):\n",
    "    print('{_id:20}{count:10}'.format(**data))\n",
    "    if i == 4: break"
   ]
  },
  {
   "cell_type": "markdown",
   "metadata": {
    "slideshow": {
     "slide_type": "slide"
    }
   },
   "source": [
    "A <b>$lookup</b> lets us insert matches from one collection (below: conditions) into another (below: patients) based on a matching value (below: patient _id):"
   ]
  },
  {
   "cell_type": "code",
   "execution_count": 94,
   "metadata": {},
   "outputs": [
    {
     "name": "stdout",
     "output_type": "stream",
     "text": [
      "{u'_id': 1,\n",
      " u'age': 51,\n",
      " u'conditions': [{u'_id': ObjectId('5a78cc14a2db802558faad51'),\n",
      "                  u'condition': u'Periodontal disease',\n",
      "                  u'patient': 1},\n",
      "                 {u'_id': ObjectId('5a78cc14a2db802558fabdf0'),\n",
      "                  u'condition': u'Androgenetic alopecia',\n",
      "                  u'patient': 1}],\n",
      " u'first': u'Jimmy',\n",
      " u'last': u'Wise',\n",
      " u'sex': u'male'}\n"
     ]
    }
   ],
   "source": [
    "from pprint import pprint\n",
    "for document in mydb.patients.aggregate([\n",
    "    {\n",
    "         '$lookup': {\n",
    "             'from': 'conditions',\n",
    "             'localField': '_id',\n",
    "             'foreignField': 'patient',\n",
    "             'as': 'conditions'\n",
    "         },\n",
    "    }]):\n",
    "    pprint(document)\n",
    "    break\n"
   ]
  },
  {
   "cell_type": "markdown",
   "metadata": {
    "slideshow": {
     "slide_type": "slide"
    }
   },
   "source": [
    "In practice, we rarely want the full document. Instead, we <b>$project</b> the combined entity to get just the fields we want:"
   ]
  },
  {
   "cell_type": "code",
   "execution_count": 95,
   "metadata": {},
   "outputs": [
    {
     "name": "stdout",
     "output_type": "stream",
     "text": [
      "{u'_id': 1,\n",
      " u'age': 51,\n",
      " u'conditions': [u'Periodontal disease', u'Androgenetic alopecia'],\n",
      " u'first': u'Jimmy',\n",
      " u'last': u'Wise',\n",
      " u'sex': u'male'}\n"
     ]
    }
   ],
   "source": [
    "for document in mydb.patients.aggregate([\n",
    "    {\n",
    "         '$lookup': {\n",
    "             'from': 'conditions',\n",
    "             'localField': '_id',\n",
    "             'foreignField': 'patient',\n",
    "             'as': 'conditions'\n",
    "         },\n",
    "    },\n",
    "    {\n",
    "        '$project': {\n",
    "            'conditions': '$conditions.condition',\n",
    "            'first': True,\n",
    "            'last': True,\n",
    "            'age': True,\n",
    "            'sex': True,\n",
    "            '_id': True\n",
    "        }\n",
    "    }\n",
    "]):\n",
    "    pprint(document)\n",
    "    break"
   ]
  },
  {
   "cell_type": "markdown",
   "metadata": {
    "slideshow": {
     "slide_type": "slide"
    }
   },
   "source": [
    "To save the results of an aggregation into a new collection, use <b>$out</b> as the last step:"
   ]
  },
  {
   "cell_type": "code",
   "execution_count": 96,
   "metadata": {},
   "outputs": [
    {
     "data": {
      "text/plain": [
       "<pymongo.command_cursor.CommandCursor at 0x9223518>"
      ]
     },
     "execution_count": 96,
     "metadata": {},
     "output_type": "execute_result"
    }
   ],
   "source": [
    "mydb.patients.aggregate([\n",
    "    {\n",
    "         '$lookup': {\n",
    "             'from': 'conditions',\n",
    "             'localField': '_id',\n",
    "             'foreignField': 'patient',\n",
    "             'as': 'conditions'\n",
    "         },\n",
    "    },\n",
    "    {\n",
    "        '$project': {\n",
    "            'conditions': '$conditions.condition',\n",
    "            'first': True,\n",
    "            'last': True,\n",
    "            'age': True,\n",
    "            'sex': True,\n",
    "            '_id': True\n",
    "        }\n",
    "    },\n",
    "    {\n",
    "        '$out': 'patient_data'\n",
    "    }\n",
    "])"
   ]
  },
  {
   "cell_type": "markdown",
   "metadata": {
    "slideshow": {
     "slide_type": "slide"
    }
   },
   "source": [
    "To speed up searches (at the cost of slower inserts), it is advantageous to <b>create_index</b> on a collection's field. e.g. to allow quickly seaching on conditions:"
   ]
  },
  {
   "cell_type": "code",
   "execution_count": 97,
   "metadata": {},
   "outputs": [
    {
     "data": {
      "text/plain": [
       "u'conditions_1'"
      ]
     },
     "execution_count": 97,
     "metadata": {},
     "output_type": "execute_result"
    }
   ],
   "source": [
    "mydb.patient_data.create_index('conditions')"
   ]
  },
  {
   "cell_type": "markdown",
   "metadata": {
    "slideshow": {
     "slide_type": "slide"
    }
   },
   "source": [
    "Your turn."
   ]
  },
  {
   "cell_type": "markdown",
   "metadata": {},
   "source": [
    "Now that we have this combined, patient-centric collection, we can see how many patients have been diagnosed with Diabetes and Alzheimer's in that order and no other conditions:"
   ]
  },
  {
   "cell_type": "code",
   "execution_count": 101,
   "metadata": {},
   "outputs": [
    {
     "data": {
      "text/plain": [
       "4"
      ]
     },
     "execution_count": 101,
     "metadata": {},
     "output_type": "execute_result"
    }
   ],
   "source": [
    "mydb.patient_data.count({'conditions': ['Diabetes', \"Alzheimer's\"]})"
   ]
  },
  {
   "cell_type": "markdown",
   "metadata": {},
   "source": [
    "Using the <b>\\$and</b>, <b>\\$match</b>, and <b>\\$sort</b> operators with aggregation, find the first four names of people with both conditions (and potentially others) sorted alphabetically. (Hint: there are 98 such people total.)"
   ]
  },
  {
   "cell_type": "code",
   "execution_count": null,
   "metadata": {
    "collapsed": true
   },
   "outputs": [],
   "source": [
    " "
   ]
  },
  {
   "cell_type": "markdown",
   "metadata": {
    "slideshow": {
     "slide_type": "slide"
    }
   },
   "source": [
    "We can group on conditions to count the prevalence of condition patterns:"
   ]
  },
  {
   "cell_type": "code",
   "execution_count": 103,
   "metadata": {},
   "outputs": [
    {
     "name": "stdout",
     "output_type": "stream",
     "text": [
      "[]                                                                2467\n",
      "[u'Periodontal disease']                                          1485\n",
      "[u'High blood pressure']                                           683\n",
      "[u'Androgenetic alopecia']                                         350\n",
      "[u'Migraines']                                                     287\n",
      "[u'High blood pressure', u'Periodontal disease']                   279\n"
     ]
    }
   ],
   "source": [
    "for i, data in enumerate(mydb.patient_data.aggregate([\n",
    "    {'$group': {'_id': '$conditions', 'count': {'$sum': 1}}},\n",
    "    {'$sort': {'count': -1}}\n",
    "])):\n",
    "    print('{_id:60}{count:10}'.format(**data))\n",
    "    if i == 5: break"
   ]
  },
  {
   "cell_type": "markdown",
   "metadata": {},
   "source": [
    "The 279 people diagnosed with High blood pressure and periodontal disease (in that order) are not counted in the 683 with high blood pressure."
   ]
  },
  {
   "cell_type": "markdown",
   "metadata": {
    "slideshow": {
     "slide_type": "slide"
    }
   },
   "source": [
    "To count the conditions individually, we can first <b>$unwind</b> the list of conditions -- splitting each document into multiple documents, one per condition -- and then counting:"
   ]
  },
  {
   "cell_type": "code",
   "execution_count": 104,
   "metadata": {},
   "outputs": [
    {
     "name": "stdout",
     "output_type": "stream",
     "text": [
      "Periodontal disease                                               4244\n",
      "High blood pressure                                               3114\n",
      "Androgenetic alopecia                                             2209\n",
      "Migraines                                                         1031\n",
      "Diabetes                                                           873\n",
      "Alcohol abuse                                                      550\n"
     ]
    }
   ],
   "source": [
    "for i, data in enumerate(mydb.patient_data.aggregate([\n",
    "    {'$unwind': '$conditions'},\n",
    "    {'$group': {'_id': '$conditions', 'count': {'$sum': 1}}},\n",
    "    {'$sort': {'count': -1}}\n",
    "])):\n",
    "    print('{_id:60}{count:10}'.format(**data))\n",
    "    if i == 5: break"
   ]
  },
  {
   "cell_type": "markdown",
   "metadata": {
    "slideshow": {
     "slide_type": "slide"
    }
   },
   "source": [
    "Your turn"
   ]
  },
  {
   "cell_type": "markdown",
   "metadata": {},
   "source": [
    "What are the top six conditions of women aged 20 in this dataset?"
   ]
  },
  {
   "cell_type": "code",
   "execution_count": 107,
   "metadata": {},
   "outputs": [
    {
     "name": "stdout",
     "output_type": "stream",
     "text": [
      "Periodontal disease                             27\n",
      "High blood pressure                              8\n",
      "Migraines                                        6\n",
      "Alcohol abuse                                    4\n",
      "Obsessive-compulsive disorder                    3\n",
      "Diabetes                                         2\n"
     ]
    }
   ],
   "source": [
    " "
   ]
  },
  {
   "cell_type": "markdown",
   "metadata": {
    "slideshow": {
     "slide_type": "slide"
    }
   },
   "source": [
    "<h1>Updating</h1>"
   ]
  },
  {
   "cell_type": "markdown",
   "metadata": {},
   "source": [
    "The <b>update_many</b> method on a collection takes a search query, and an update rule. Various update rules are available, including <b>\\$set</b>, <b>\\$inc</b>, and <b>\\$mul</b>."
   ]
  },
  {
   "cell_type": "markdown",
   "metadata": {},
   "source": [
    "For example, to rename the condition <b>Alzheimer's</b> to <b>Alzheimer's disease</b>:"
   ]
  },
  {
   "cell_type": "code",
   "execution_count": 108,
   "metadata": {},
   "outputs": [
    {
     "data": {
      "text/plain": [
       "<pymongo.results.UpdateResult at 0x9203048>"
      ]
     },
     "execution_count": 108,
     "metadata": {},
     "output_type": "execute_result"
    }
   ],
   "source": [
    "mydb.patient_data.update_many(\n",
    "    {'conditions': \"Alzheimer's\"},\n",
    "    {'$set': {'conditions.$': \"Alzheimer's disease\"}}\n",
    ")"
   ]
  },
  {
   "cell_type": "markdown",
   "metadata": {
    "slideshow": {
     "slide_type": "slide"
    }
   },
   "source": [
    "Note that patient 8509 is currently 89 years old:"
   ]
  },
  {
   "cell_type": "code",
   "execution_count": 109,
   "metadata": {},
   "outputs": [
    {
     "data": {
      "text/plain": [
       "89"
      ]
     },
     "execution_count": 109,
     "metadata": {},
     "output_type": "execute_result"
    }
   ],
   "source": [
    "mydb.patient_data.find_one({'_id': 8509})['age']"
   ]
  },
  {
   "cell_type": "markdown",
   "metadata": {
    "slideshow": {
     "slide_type": "fragment"
    }
   },
   "source": [
    "Suppose it is his birthday. Let's increase his age by 1:"
   ]
  },
  {
   "cell_type": "code",
   "execution_count": 112,
   "metadata": {},
   "outputs": [
    {
     "data": {
      "text/plain": [
       "<pymongo.results.UpdateResult at 0x9203240>"
      ]
     },
     "execution_count": 112,
     "metadata": {},
     "output_type": "execute_result"
    }
   ],
   "source": [
    "mydb.patient_data.update_many(\n",
    "    {'_id': 8509},\n",
    "    {'$inc': {'age': 1}}\n",
    ")"
   ]
  },
  {
   "cell_type": "code",
   "execution_count": 113,
   "metadata": {},
   "outputs": [
    {
     "data": {
      "text/plain": [
       "90"
      ]
     },
     "execution_count": 113,
     "metadata": {},
     "output_type": "execute_result"
    }
   ],
   "source": [
    "mydb.patient_data.find_one({'_id': 8509})['age']"
   ]
  },
  {
   "cell_type": "markdown",
   "metadata": {
    "slideshow": {
     "slide_type": "slide"
    }
   },
   "source": [
    "<h1>Delete</h1>"
   ]
  },
  {
   "cell_type": "markdown",
   "metadata": {},
   "source": [
    "To remove a document from a collection, we use <b>delete_one</b> or <b>delete_many</b>."
   ]
  },
  {
   "cell_type": "code",
   "execution_count": 114,
   "metadata": {},
   "outputs": [
    {
     "data": {
      "text/plain": [
       "71"
      ]
     },
     "execution_count": 114,
     "metadata": {},
     "output_type": "execute_result"
    }
   ],
   "source": [
    "mydb.patient_data.count({'last': 'Jones'})"
   ]
  },
  {
   "cell_type": "code",
   "execution_count": 115,
   "metadata": {},
   "outputs": [
    {
     "data": {
      "text/plain": [
       "70"
      ]
     },
     "execution_count": 115,
     "metadata": {},
     "output_type": "execute_result"
    }
   ],
   "source": [
    "mydb.patient_data.delete_one({'last': 'Jones'})\n",
    "mydb.patient_data.count({'last': 'Jones'})"
   ]
  },
  {
   "cell_type": "code",
   "execution_count": 116,
   "metadata": {},
   "outputs": [
    {
     "data": {
      "text/plain": [
       "0"
      ]
     },
     "execution_count": 116,
     "metadata": {},
     "output_type": "execute_result"
    }
   ],
   "source": [
    "mydb.patient_data.delete_many({'last': 'Jones'})\n",
    "mydb.patient_data.count({'last': 'Jones'})"
   ]
  },
  {
   "cell_type": "markdown",
   "metadata": {
    "slideshow": {
     "slide_type": "slide"
    }
   },
   "source": [
    "We can delete a collection by dropping it:"
   ]
  },
  {
   "cell_type": "code",
   "execution_count": 117,
   "metadata": {},
   "outputs": [
    {
     "data": {
      "text/plain": [
       "{u'nIndexesWas': 2, u'ns': u'medical_history.patient_data', u'ok': 1.0}"
      ]
     },
     "execution_count": 117,
     "metadata": {},
     "output_type": "execute_result"
    }
   ],
   "source": [
    "mydb.drop_collection('patient_data')"
   ]
  },
  {
   "cell_type": "markdown",
   "metadata": {},
   "source": [
    "and delete a database by dropping it:"
   ]
  },
  {
   "cell_type": "code",
   "execution_count": 119,
   "metadata": {},
   "outputs": [],
   "source": [
    "mongodb.drop_database('medical_history')"
   ]
  }
 ],
 "metadata": {
  "celltoolbar": "Slideshow",
  "kernelspec": {
   "display_name": "Python 2",
   "language": "python",
   "name": "python2"
  },
  "language_info": {
   "codemirror_mode": {
    "name": "ipython",
    "version": 2
   },
   "file_extension": ".py",
   "mimetype": "text/x-python",
   "name": "python",
   "nbconvert_exporter": "python",
   "pygments_lexer": "ipython2",
   "version": "2.7.13"
  }
 },
 "nbformat": 4,
 "nbformat_minor": 2
}
